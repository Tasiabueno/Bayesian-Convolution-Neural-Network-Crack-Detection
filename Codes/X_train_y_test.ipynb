{
 "metadata": {
  "language_info": {
   "codemirror_mode": {
    "name": "ipython",
    "version": 3
   },
   "file_extension": ".py",
   "mimetype": "text/x-python",
   "name": "python",
   "nbconvert_exporter": "python",
   "pygments_lexer": "ipython3",
   "version": "3.7.6-final"
  },
  "orig_nbformat": 2,
  "kernelspec": {
   "name": "Python 3.7.6 64-bit ('base': conda)",
   "display_name": "Python 3.7.6 64-bit ('base': conda)",
   "metadata": {
    "interpreter": {
     "hash": "dca0ade3e726a953b501b15e8e990130d2b7799f14cfd9f4271676035ebe5511"
    }
   }
  }
 },
 "nbformat": 4,
 "nbformat_minor": 2,
 "cells": [
  {
   "cell_type": "code",
   "execution_count": 26,
   "metadata": {
    "tags": []
   },
   "outputs": [
    {
     "output_type": "stream",
     "name": "stdout",
     "text": "[&#39;.DS_Store&#39;, &#39;test&#39;, &#39;train&#39;]\n"
    }
   ],
   "source": [
    "# import packages\n",
    "import numpy as np\n",
    "import pandas as pd\n",
    "import matplotlib.pyplot as plt \n",
    "import random \n",
    "import cv2\n",
    "import os\n",
    "import pickle\n",
    "print(os.listdir(\"/Users/tasiabueno/Documents/Thesis//Data_ff\"))"
   ]
  },
  {
   "cell_type": "code",
   "execution_count": 39,
   "metadata": {
    "tags": []
   },
   "outputs": [],
   "source": [
    "#Create x_train,x_test, y_train, y_test for tf CNN\n",
    "train_dir = \"/Users/tasiabueno/Documents/Thesis/Data_ff/train\" \n",
    "test_dir =\"/Users/tasiabueno/Documents/Thesis/Data_ff/test\"\n",
    "CATEGORIES = [\"Negative\", \"Positive\"] # Directory to the postive and negative images\n",
    "\n",
    "def create_data(directory,X,y):\n",
    "    for category in CATEGORIES:\n",
    "        path = os.path.join(directory, category)\n",
    "        class_num = CATEGORIES.index(category)\n",
    "        for img in os.listdir(path):\n",
    "            img_array = cv2.imread(os.path.join(path,img), 0)  #Load the images in greyscale \n",
    "            random.shuffle(img_array)         \n",
    "            new_img_array = cv2.resize(img_array, (28,28)) #resize all the images \n",
    "            X.append(new_img_array)\n",
    "            y.append(class_num) "
   ]
  },
  {
   "cell_type": "code",
   "execution_count": 40,
   "metadata": {},
   "outputs": [],
   "source": [
    "X_train= []\n",
    "y_train= []\n",
    "X_test = []\n",
    "y_test = []\n",
    "#\n",
    "create_data(train_dir,X_train,y_train)\n",
    "create_data(test_dir, X_test, y_test)"
   ]
  },
  {
   "cell_type": "code",
   "execution_count": 41,
   "metadata": {},
   "outputs": [],
   "source": [
    "X_train = np.array(X_train).reshape(-1,32,32,1)\n",
    "y_train = np.array(y_train)\n",
    "X_test  = np.array(X_test).reshape(-1,32,32,1)\n",
    "y_test  = np.array(y_test)"
   ]
  },
  {
   "cell_type": "code",
   "execution_count": 42,
   "metadata": {},
   "outputs": [],
   "source": [
    "X_train = X_train / 255\n",
    "X_test = X_test / 255"
   ]
  },
  {
   "cell_type": "code",
   "execution_count": 43,
   "metadata": {},
   "outputs": [
    {
     "output_type": "error",
     "ename": "NameError",
     "evalue": "name &#39;workspace&#39; is not defined",
     "traceback": [
      "\u001b[0;31m---------------------------------------------------------------------------\u001b[0m",
      "\u001b[0;31mNameError\u001b[0m                                 Traceback (most recent call last)",
      "\u001b[0;32m&lt;ipython-input-43-e6b83db52808&gt;\u001b[0m in \u001b[0;36m&lt;module&gt;\u001b[0;34m\u001b[0m\n\u001b[0;32m----&gt; 1\u001b[0;31m \u001b[0mws\u001b[0m \u001b[0;34m=\u001b[0m \u001b[0mworkspace\u001b[0m\u001b[0;34m.\u001b[0m\u001b[0mcreate\u001b[0m\u001b[0;34m(\u001b[0m\u001b[0mname\u001b[0m\u001b[0;34m=\u001b[0m\u001b[0;34m&quot;test_azure&quot;\u001b[0m\u001b[0;34m)\u001b[0m\u001b[0;34m\u001b[0m\u001b[0;34m\u001b[0m\u001b[0m\n\u001b[0m",
      "\u001b[0;31mNameError\u001b[0m: name &#39;workspace&#39; is not defined"
     ]
    }
   ],
   "source": [
    "ws = workspace.create(name=\"test_azure\")"
   ]
  },
  {
   "cell_type": "code",
   "execution_count": null,
   "metadata": {},
   "outputs": [],
   "source": []
  }
 ]
}